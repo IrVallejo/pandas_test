{
 "cells": [
  {
   "cell_type": "code",
   "execution_count": 64,
   "metadata": {},
   "outputs": [],
   "source": [
    "# Step 0. Import libraries and custom modules\n",
    "import pandas as pd\n",
    "import numpy as np\n",
    "import matplotlib.pyplot as plt\n",
    "import seaborn as sns"
   ]
  },
  {
   "cell_type": "code",
   "execution_count": 65,
   "metadata": {},
   "outputs": [
    {
     "name": "stdout",
     "output_type": "stream",
     "text": [
      "<class 'pandas.core.frame.DataFrame'>\n",
      "RangeIndex: 1000 entries, 0 to 999\n",
      "Data columns (total 5 columns):\n",
      " #   Column  Non-Null Count  Dtype         \n",
      "---  ------  --------------  -----         \n",
      " 0   Date    1000 non-null   datetime64[ns]\n",
      " 1   Region  1000 non-null   object        \n",
      " 2   Type    1000 non-null   object        \n",
      " 3   Units   911 non-null    float64       \n",
      " 4   Sales   1000 non-null   int64         \n",
      "dtypes: datetime64[ns](1), float64(1), int64(1), object(2)\n",
      "memory usage: 39.2+ KB\n"
     ]
    }
   ],
   "source": [
    "# Step 1. Load data, show info and sample\n",
    "# 1.1 Read data\n",
    "df_raw = pd.read_excel(\n",
    "   'https://github.com/datagy/mediumdata/raw/master/sample_pivot.xlsx', \n",
    "   parse_dates=['Date']\n",
    ")\n",
    "df_raw.info()"
   ]
  },
  {
   "cell_type": "code",
   "execution_count": 66,
   "metadata": {},
   "outputs": [
    {
     "data": {
      "text/html": [
       "<div>\n",
       "<style scoped>\n",
       "    .dataframe tbody tr th:only-of-type {\n",
       "        vertical-align: middle;\n",
       "    }\n",
       "\n",
       "    .dataframe tbody tr th {\n",
       "        vertical-align: top;\n",
       "    }\n",
       "\n",
       "    .dataframe thead th {\n",
       "        text-align: right;\n",
       "    }\n",
       "</style>\n",
       "<table border=\"1\" class=\"dataframe\">\n",
       "  <thead>\n",
       "    <tr style=\"text-align: right;\">\n",
       "      <th></th>\n",
       "      <th>Date</th>\n",
       "      <th>Region</th>\n",
       "      <th>Type</th>\n",
       "      <th>Units</th>\n",
       "      <th>Sales</th>\n",
       "    </tr>\n",
       "  </thead>\n",
       "  <tbody>\n",
       "    <tr>\n",
       "      <th>681</th>\n",
       "      <td>2020-11-27</td>\n",
       "      <td>East</td>\n",
       "      <td>Children's Clothing</td>\n",
       "      <td>32.0</td>\n",
       "      <td>342</td>\n",
       "    </tr>\n",
       "    <tr>\n",
       "      <th>990</th>\n",
       "      <td>2020-12-17</td>\n",
       "      <td>North</td>\n",
       "      <td>Children's Clothing</td>\n",
       "      <td>7.0</td>\n",
       "      <td>217</td>\n",
       "    </tr>\n",
       "    <tr>\n",
       "      <th>155</th>\n",
       "      <td>2020-06-13</td>\n",
       "      <td>East</td>\n",
       "      <td>Children's Clothing</td>\n",
       "      <td>30.0</td>\n",
       "      <td>336</td>\n",
       "    </tr>\n",
       "    <tr>\n",
       "      <th>768</th>\n",
       "      <td>2020-06-25</td>\n",
       "      <td>North</td>\n",
       "      <td>Women's Clothing</td>\n",
       "      <td>5.0</td>\n",
       "      <td>644</td>\n",
       "    </tr>\n",
       "    <tr>\n",
       "      <th>438</th>\n",
       "      <td>2020-10-07</td>\n",
       "      <td>North</td>\n",
       "      <td>Women's Clothing</td>\n",
       "      <td>30.0</td>\n",
       "      <td>462</td>\n",
       "    </tr>\n",
       "  </tbody>\n",
       "</table>\n",
       "</div>"
      ],
      "text/plain": [
       "          Date Region                 Type  Units  Sales\n",
       "681 2020-11-27   East  Children's Clothing   32.0    342\n",
       "990 2020-12-17  North  Children's Clothing    7.0    217\n",
       "155 2020-06-13   East  Children's Clothing   30.0    336\n",
       "768 2020-06-25  North     Women's Clothing    5.0    644\n",
       "438 2020-10-07  North     Women's Clothing   30.0    462"
      ]
     },
     "execution_count": 66,
     "metadata": {},
     "output_type": "execute_result"
    }
   ],
   "source": [
    "# 1.2 Show sample\n",
    "df_raw.sample(5, random_state=1234)"
   ]
  },
  {
   "cell_type": "code",
   "execution_count": 67,
   "metadata": {},
   "outputs": [],
   "source": [
    "# Step 2. Transform to standard format\n",
    "# 2.1 Create a pandas chain to convert to final form\n",
    "df = (\n",
    "    df_raw\n",
    "    .copy()\n",
    "    .set_axis(\n",
    "        df_raw\n",
    "        .columns.str.lower()\n",
    "        .str.replace(' ','_')\n",
    "        .str.replace(r'\\W','',regex=True)\n",
    "        .str.slice(0,40), axis=1\n",
    "    )\n",
    "    .astype({'region':'category', \n",
    "             'type':'category'})\n",
    "    .assign(\n",
    "        date = lambda x: pd.to_datetime(x['date'], format='%Y-%m-%d')\n",
    "    )\n",
    "    .set_index('date')\n",
    ")"
   ]
  },
  {
   "cell_type": "code",
   "execution_count": 68,
   "metadata": {},
   "outputs": [
    {
     "data": {
      "text/html": [
       "<div>\n",
       "<style scoped>\n",
       "    .dataframe tbody tr th:only-of-type {\n",
       "        vertical-align: middle;\n",
       "    }\n",
       "\n",
       "    .dataframe tbody tr th {\n",
       "        vertical-align: top;\n",
       "    }\n",
       "\n",
       "    .dataframe thead th {\n",
       "        text-align: right;\n",
       "    }\n",
       "</style>\n",
       "<table border=\"1\" class=\"dataframe\">\n",
       "  <thead>\n",
       "    <tr style=\"text-align: right;\">\n",
       "      <th></th>\n",
       "      <th>units</th>\n",
       "      <th>sales</th>\n",
       "    </tr>\n",
       "  </thead>\n",
       "  <tbody>\n",
       "    <tr>\n",
       "      <th>count</th>\n",
       "      <td>911.000000</td>\n",
       "      <td>1000.000000</td>\n",
       "    </tr>\n",
       "    <tr>\n",
       "      <th>mean</th>\n",
       "      <td>19.638858</td>\n",
       "      <td>427.254000</td>\n",
       "    </tr>\n",
       "    <tr>\n",
       "      <th>std</th>\n",
       "      <td>9.471309</td>\n",
       "      <td>253.441362</td>\n",
       "    </tr>\n",
       "    <tr>\n",
       "      <th>min</th>\n",
       "      <td>3.000000</td>\n",
       "      <td>33.000000</td>\n",
       "    </tr>\n",
       "    <tr>\n",
       "      <th>25%</th>\n",
       "      <td>12.000000</td>\n",
       "      <td>224.000000</td>\n",
       "    </tr>\n",
       "    <tr>\n",
       "      <th>50%</th>\n",
       "      <td>20.000000</td>\n",
       "      <td>380.000000</td>\n",
       "    </tr>\n",
       "    <tr>\n",
       "      <th>75%</th>\n",
       "      <td>28.000000</td>\n",
       "      <td>575.000000</td>\n",
       "    </tr>\n",
       "    <tr>\n",
       "      <th>max</th>\n",
       "      <td>35.000000</td>\n",
       "      <td>1155.000000</td>\n",
       "    </tr>\n",
       "  </tbody>\n",
       "</table>\n",
       "</div>"
      ],
      "text/plain": [
       "            units        sales\n",
       "count  911.000000  1000.000000\n",
       "mean    19.638858   427.254000\n",
       "std      9.471309   253.441362\n",
       "min      3.000000    33.000000\n",
       "25%     12.000000   224.000000\n",
       "50%     20.000000   380.000000\n",
       "75%     28.000000   575.000000\n",
       "max     35.000000  1155.000000"
      ]
     },
     "metadata": {},
     "output_type": "display_data"
    }
   ],
   "source": [
    "# Step 3. Perform busines analysis\n",
    "# 3.1 Get the summary, for categorical and numerical columns\n",
    "\n",
    "\n",
    "#categorical_summary = df.describe(include=['object'])\n",
    "#display(categorical_summary)\n",
    "\n",
    "numerical_summary = df.describe()\n",
    "display(numerical_summary)\n"
   ]
  },
  {
   "cell_type": "code",
   "execution_count": 69,
   "metadata": {},
   "outputs": [
    {
     "name": "stdout",
     "output_type": "stream",
     "text": [
      "427254\n"
     ]
    }
   ],
   "source": [
    "# 3.2 Get the sum of total sales\n",
    "total_sales = df['sales'].sum()\n",
    "print(total_sales)"
   ]
  },
  {
   "cell_type": "code",
   "execution_count": 70,
   "metadata": {},
   "outputs": [
    {
     "name": "stdout",
     "output_type": "stream",
     "text": [
      "427.254\n"
     ]
    }
   ],
   "source": [
    "# 3.3 Get the average of sales\n",
    "average_sales = df['sales'].mean()\n",
    "print(average_sales)"
   ]
  },
  {
   "cell_type": "code",
   "execution_count": 71,
   "metadata": {},
   "outputs": [
    {
     "name": "stdout",
     "output_type": "stream",
     "text": [
      "region\n",
      "East     167763\n",
      "North    138700\n",
      "South     59315\n",
      "West      61476\n",
      "Name: sales, dtype: int64\n"
     ]
    },
    {
     "name": "stderr",
     "output_type": "stream",
     "text": [
      "/tmp/ipykernel_7989/4191440647.py:2: FutureWarning: The default of observed=False is deprecated and will be changed to True in a future version of pandas. Pass observed=False to retain current behavior or observed=True to adopt the future default and silence this warning.\n",
      "  sales_by_region = df.groupby('region')['sales'].sum()\n"
     ]
    }
   ],
   "source": [
    "# 3.4 Get the sum of sales by region\n",
    "sales_by_region = df.groupby('region')['sales'].sum()\n",
    "print(sales_by_region)"
   ]
  },
  {
   "cell_type": "code",
   "execution_count": 81,
   "metadata": {},
   "outputs": [
    {
     "name": "stdout",
     "output_type": "stream",
     "text": [
      "region\n",
      "East     408.182482\n",
      "North    438.924051\n",
      "South    432.956204\n",
      "West     452.029412\n",
      "Name: sales, dtype: float64\n"
     ]
    },
    {
     "name": "stderr",
     "output_type": "stream",
     "text": [
      "/tmp/ipykernel_7989/2957225678.py:2: FutureWarning: The default of observed=False is deprecated and will be changed to True in a future version of pandas. Pass observed=False to retain current behavior or observed=True to adopt the future default and silence this warning.\n",
      "  average_sales_by_region = df.groupby('region')['sales'].mean()\n"
     ]
    }
   ],
   "source": [
    "# 3.4 Get the average sales by region\n",
    "average_sales_by_region = df.groupby('region')['sales'].mean()\n",
    "print(average_sales_by_region)"
   ]
  },
  {
   "cell_type": "code",
   "execution_count": 83,
   "metadata": {},
   "outputs": [
    {
     "name": "stdout",
     "output_type": "stream",
     "text": [
      "           sum        mean  count\n",
      "region                           \n",
      "East    167763  408.182482    411\n",
      "North   138700  438.924051    316\n",
      "South    59315  432.956204    137\n",
      "West     61476  452.029412    136\n"
     ]
    },
    {
     "name": "stderr",
     "output_type": "stream",
     "text": [
      "/tmp/ipykernel_7989/2004636370.py:2: FutureWarning: The default of observed=False is deprecated and will be changed to True in a future version of pandas. Pass observed=False to retain current behavior or observed=True to adopt the future default and silence this warning.\n",
      "  sales_summary_by_region = df.groupby('region')['sales'].agg(['sum', 'mean', 'count'])\n"
     ]
    }
   ],
   "source": [
    "# 3.5 Get the sum, mean and count of sales by region\n",
    "sales_summary_by_region = df.groupby('region')['sales'].agg(['sum', 'mean', 'count'])\n",
    "print(sales_summary_by_region)"
   ]
  },
  {
   "cell_type": "code",
   "execution_count": 86,
   "metadata": {},
   "outputs": [
    {
     "name": "stdout",
     "output_type": "stream",
     "text": [
      "                      units\n",
      "type                       \n",
      "Children's Clothing  5887.0\n",
      "Men's Clothing       3974.0\n",
      "Women's Clothing     8030.0\n"
     ]
    },
    {
     "name": "stderr",
     "output_type": "stream",
     "text": [
      "/tmp/ipykernel_7989/4204821016.py:2: FutureWarning: The default value of observed=False is deprecated and will change to observed=True in a future version of pandas. Specify observed=False to silence this warning and retain the current behavior\n",
      "  pivot_table_units_by_type = df.pivot_table(values='units', index='type', aggfunc='sum')\n"
     ]
    }
   ],
   "source": [
    "# 3.6 Create a pivot table that gets total units by type\n",
    "pivot_table_units_by_type = df.pivot_table(values='units', index='type', aggfunc='sum')\n",
    "print(pivot_table_units_by_type)"
   ]
  },
  {
   "cell_type": "code",
   "execution_count": 88,
   "metadata": {},
   "outputs": [
    {
     "name": "stdout",
     "output_type": "stream",
     "text": [
      "           region                 type  units  sales\n",
      "date                                                \n",
      "2020-07-11   East  Children's Clothing   18.0    306\n",
      "2020-02-28   East  Children's Clothing   26.0    832\n",
      "2020-03-25   East     Women's Clothing   29.0    609\n",
      "2020-11-03   East  Children's Clothing   34.0    374\n",
      "2020-05-01   East       Men's Clothing   10.0    140\n",
      "...           ...                  ...    ...    ...\n",
      "2020-03-20   East       Men's Clothing   14.0    238\n",
      "2020-06-05   East  Children's Clothing   11.0    220\n",
      "2020-05-04   East       Men's Clothing    6.0    108\n",
      "2020-10-18   East     Women's Clothing   19.0    399\n",
      "2020-02-11   East  Children's Clothing   35.0    735\n",
      "\n",
      "[411 rows x 4 columns]\n"
     ]
    }
   ],
   "source": [
    "# 3.7 Display the dataset showing only the East region\n",
    "east_region_data = df[df['region'] == 'East']\n",
    "print(east_region_data)"
   ]
  },
  {
   "cell_type": "code",
   "execution_count": 91,
   "metadata": {},
   "outputs": [
    {
     "name": "stdout",
     "output_type": "stream",
     "text": [
      "           region                 type  units  sales\n",
      "date                                                \n",
      "2020-07-11   East  Children's Clothing   18.0    306\n",
      "2020-02-28   East  Children's Clothing   26.0    832\n",
      "2020-03-19   West     Women's Clothing    3.0     33\n",
      "2020-03-25   East     Women's Clothing   29.0    609\n",
      "2020-11-03   East  Children's Clothing   34.0    374\n",
      "...           ...                  ...    ...    ...\n",
      "2020-02-08   West       Men's Clothing   32.0    928\n",
      "2020-05-04   East       Men's Clothing    6.0    108\n",
      "2020-11-17   West       Men's Clothing   27.0    486\n",
      "2020-10-18   East     Women's Clothing   19.0    399\n",
      "2020-02-11   East  Children's Clothing   35.0    735\n",
      "\n",
      "[547 rows x 4 columns]\n"
     ]
    }
   ],
   "source": [
    "# 3.8 Display the dataset showing only the East and West regions\n",
    "east_west_region_data = df[df['region'].isin(['East', 'West'])]\n",
    "print(east_west_region_data)"
   ]
  },
  {
   "cell_type": "code",
   "execution_count": 93,
   "metadata": {},
   "outputs": [
    {
     "name": "stdout",
     "output_type": "stream",
     "text": [
      "           region                 type  units  sales\n",
      "date                                                \n",
      "2020-11-03   East  Children's Clothing   34.0    374\n",
      "2020-06-12   East     Women's Clothing   35.0   1050\n",
      "2020-05-11   East       Men's Clothing   35.0    700\n",
      "2020-06-14   East       Men's Clothing   32.0    416\n",
      "2020-10-28   East       Men's Clothing   34.0    986\n",
      "...           ...                  ...    ...    ...\n",
      "2020-02-24   East     Women's Clothing   32.0    693\n",
      "2020-08-13   East       Men's Clothing   32.0    132\n",
      "2020-10-04   East       Men's Clothing   35.0    350\n",
      "2020-10-20   East       Men's Clothing   32.0    928\n",
      "2020-02-11   East  Children's Clothing   35.0    735\n",
      "\n",
      "[70 rows x 4 columns]\n"
     ]
    }
   ],
   "source": [
    "# 3.9 Display the dataset showing East sales with units over 30 \n",
    "east_sales_over_30 = df[(df['region'] == 'East') & (df['units'] > 30)]\n",
    "print(east_sales_over_30)"
   ]
  },
  {
   "cell_type": "code",
   "execution_count": null,
   "metadata": {},
   "outputs": [],
   "source": [
    "# 3.10 A data corruption has been detected. Add 1 to all units. \n",
    "df['Units'] += 1"
   ]
  },
  {
   "cell_type": "code",
   "execution_count": 96,
   "metadata": {},
   "outputs": [],
   "source": [
    "# 3.11 Another issue was detected, in West region add 2 to all units\n",
    "df.loc[df['region'] == 'West', 'units'] += 2\n"
   ]
  }
 ],
 "metadata": {
  "kernelspec": {
   "display_name": ".venv",
   "language": "python",
   "name": "python3"
  },
  "language_info": {
   "codemirror_mode": {
    "name": "ipython",
    "version": 3
   },
   "file_extension": ".py",
   "mimetype": "text/x-python",
   "name": "python",
   "nbconvert_exporter": "python",
   "pygments_lexer": "ipython3",
   "version": "3.12.1"
  }
 },
 "nbformat": 4,
 "nbformat_minor": 2
}
